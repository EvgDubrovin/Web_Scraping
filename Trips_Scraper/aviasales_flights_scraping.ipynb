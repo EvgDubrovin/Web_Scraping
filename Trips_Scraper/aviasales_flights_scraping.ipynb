{
 "cells": [
  {
   "cell_type": "code",
   "execution_count": 1,
   "id": "9c2f2af0",
   "metadata": {},
   "outputs": [],
   "source": [
    "# ! pip install selenium"
   ]
  },
  {
   "cell_type": "code",
   "execution_count": 98,
   "id": "194092c3",
   "metadata": {},
   "outputs": [],
   "source": [
    "from selenium.webdriver import Chrome\n",
    "from selenium.webdriver.common.keys import Keys\n",
    "from selenium.webdriver.support.ui import WebDriverWait as wait\n",
    "from selenium.webdriver.support import expected_conditions as EC \n",
    "from selenium.common.exceptions import NoSuchElementException \n",
    "from selenium.webdriver.common.by import By\n",
    "from selenium.webdriver.chrome.service import Service\n",
    "from selenium.webdriver.support.select import Select\n",
    "from selenium.webdriver.common.action_chains import ActionChains\n",
    "\n",
    "from time import sleep \n",
    "from datetime import datetime, date\n",
    "from openpyxl import load_workbook # для работы с excel"
   ]
  },
  {
   "cell_type": "code",
   "execution_count": 95,
   "id": "ee5aeb56",
   "metadata": {},
   "outputs": [],
   "source": [
    "# Параметры поездки\n",
    "\n",
    "# Откуда\n",
    "origin = 'москва'\n",
    "# Куда\n",
    "destination = 'махачкала'\n",
    "\n",
    "# Дата отправления\n",
    "# Month выбрать из ['Январь', 'Февраль', 'Март', 'Апрель', 'Май', 'Июнь', 'Июль', 'Август', 'Сентябрь', 'Октябрь', 'Ноябрь', 'Декабрь']\n",
    "month_departure = \"Февраль\"\n",
    "# Day выбрать из ['1', '2', '3', ..., '28', '29', '30', '31']\n",
    "day_departure = '14'\n",
    "\n",
    "# Дата возвращения\n",
    "# Month выбрать из ['Январь', 'Февраль', 'Март', 'Апрель', 'Май', 'Июнь', 'Июль', 'Август', 'Сентябрь', 'Октябрь', 'Ноябрь', 'Декабрь']\n",
    "month_return = \"Февраль\"\n",
    "# Day выбрать из ['1', '2', '3', ..., '28', '29', '30', '31']\n",
    "day_return = '16'\n",
    "\n",
    "# Введите желаемое время прилета в город командировки формате 'hh:00'\n",
    "arrival_start_time = '08:00'\n",
    "arrival_end_time = '11:00'\n",
    "# Введите желаемое время прилета обратно в Москву из города командировки формате 'hh:00'\n",
    "returning_start_time = '19:00'\n",
    "returning_end_time = '00:00'"
   ]
  },
  {
   "cell_type": "code",
   "execution_count": 99,
   "id": "15d54c5e",
   "metadata": {},
   "outputs": [],
   "source": [
    "# Save our trip data to Excel report file\n",
    "wb = load_workbook('C:\\Evhen\\BSNS\\ViK_Medical\\Отчеты.xlsx')\n",
    "ws = wb['Sheet1']\n",
    "\n",
    "city_col = 3\n",
    "date_col = 5\n",
    "rows = [x for x in range (2, 150)]\n",
    "\n",
    "# Формируем дату для отчета\n",
    "def get_month(month):\n",
    "    m = str(months.index(month)+1)\n",
    "    if len(m)<2:\n",
    "        m = '0' + m\n",
    "    return m\n",
    "\n",
    "months = ['Январь', 'Февраль', 'Март', 'Апрель', 'Май', 'Июнь', 'Июль', 'Август', 'Сентябрь', 'Октябрь', 'Ноябрь', 'Декабрь']\n",
    "year = str(date.today().year)\n",
    "dt = day_return + '.' + get_month(month_return) + '.' + year\n",
    "\n",
    "for row in rows:\n",
    "    # fill first empty row\n",
    "    if (ws.cell(row=row, column=city_col).value==None) and (ws.cell(row=row, column=date_col).value==None):\n",
    "        ws.cell(row=row, column=city_col).value = destination.capitalize()\n",
    "        ws.cell(row=row, column=date_col).value = dt\n",
    "        break\n",
    "\n",
    "wb.save('C:\\Evhen\\BSNS\\ViK_Medical\\Отчеты.xlsx')"
   ]
  },
  {
   "cell_type": "code",
   "execution_count": 3,
   "id": "2b22b9f9",
   "metadata": {},
   "outputs": [],
   "source": [
    "# to exclude DeprecationWarning\n",
    "service = Service('C:/Users/eadub/chromedriver_win32/chromedriver.exe')\n",
    "# Запускаем Chrome driver\n",
    "browser = Chrome(service=service)\n",
    "browser.maximize_window()\n",
    "browser.implicitly_wait(10)"
   ]
  },
  {
   "cell_type": "code",
   "execution_count": 5,
   "id": "0a4f51cc",
   "metadata": {},
   "outputs": [],
   "source": [
    "url = 'https://www.aviasales.ru'\n",
    "browser.get(url)\n",
    "sleep(5)"
   ]
  },
  {
   "cell_type": "code",
   "execution_count": 7,
   "id": "dec35e41",
   "metadata": {},
   "outputs": [],
   "source": [
    "# Снимаем галочку c Ostrovok, чтобы скрипт не открывал лишние окна\n",
    "hotels_cancel = wait(browser, 10).until(EC.element_to_be_clickable((By.CSS_SELECTOR, \".of_input_checkbox__label\")))\n",
    "hotels_cancel.click()"
   ]
  },
  {
   "cell_type": "code",
   "execution_count": 8,
   "id": "d7f8438f",
   "metadata": {},
   "outputs": [],
   "source": [
    "# Заполняем поле Куда\n",
    "input_destination = wait(browser, 10).until(EC.element_to_be_clickable((By.CSS_SELECTOR, \"#destination\")))\n",
    "input_destination.click()\n",
    "input_destination.clear()\n",
    "\n",
    "input_destination.send_keys(destination)\n",
    "input_destination.click()\n",
    "sleep(2)"
   ]
  },
  {
   "cell_type": "code",
   "execution_count": 9,
   "id": "a6fa5a2a",
   "metadata": {},
   "outputs": [],
   "source": [
    "# Заполняем поле Откуда\n",
    "# Изначально поле From заполнено текущим местположением, которое Aviasales определяет по ip, поэтому нам нужно \n",
    "# сначала очистить это поле. Для этого нужно использовать WebDriverWait с expected_conditions настройкой element_to_be_clickable\n",
    "# clear the search text box\n",
    "input_origin = wait(browser, 10).until(EC.element_to_be_clickable((By.CSS_SELECTOR, \"#origin\")))\n",
    "input_origin.click()\n",
    "input_origin.clear()\n",
    "# sleep(2)\n",
    "input_origin.clear()\n",
    "# input_origin.click()\n",
    "# send text to the clear field\n",
    "# input_origin = wait(browser, 10).until(EC.element_to_be_clickable((By.CSS_SELECTOR, \"#origin\")))\n",
    "input_origin.send_keys(origin)\n",
    "input_origin.click()\n",
    "sleep(2)"
   ]
  },
  {
   "cell_type": "code",
   "execution_count": 10,
   "id": "fb1ad6d8",
   "metadata": {},
   "outputs": [],
   "source": [
    "# Заполняем дату отправления\n",
    "input_departure_date = wait(browser, 10).until(EC.element_to_be_clickable((By.CSS_SELECTOR, \"div.trip-duration__field:nth-child(1) > div:nth-child(1)\")))\n",
    "# Клик по полю Дата отправления\n",
    "input_departure_date.click()\n",
    "sleep(2)\n",
    "\n",
    "# Клик по Месяцу, чтобы выбрать месяц отправления\n",
    "month_selection_dep = Select(browser.find_element(By.CSS_SELECTOR, \"div.calendar__month:nth-child(1) > div:nth-child(1) > div:nth-child(1) > select:nth-child(2)\"))\n",
    "sleep(2)\n",
    "month_selection_dep.select_by_visible_text(month_departure)\n",
    "\n",
    "# Выбор дня отправления\n",
    "calendar_dep = wait(browser, 10).until(EC.element_to_be_clickable((By.CSS_SELECTOR, \"div.calendar__month:nth-child(1)\")))\n",
    "dates_dep = calendar_dep.find_elements(By.CLASS_NAME, \"calendar-day__date\")\n",
    "\n",
    "# Немного прокрутим страницу вниз, чтобы был виден всеь календарь целиком\n",
    "browser.execute_script(\"window.scrollTo(0, 200)\")\n",
    "\n",
    "dep_day = dates_dep[int(day_departure)-1]\n",
    "dep_day.click()"
   ]
  },
  {
   "cell_type": "code",
   "execution_count": 11,
   "id": "7025d87e",
   "metadata": {},
   "outputs": [],
   "source": [
    "# Заполняем дату возвращения                                                                 \n",
    "input_return_date = wait(browser, 10).until(EC.element_to_be_clickable((By.CSS_SELECTOR, \"div.--return:nth-child(1)\")))\n",
    "# Клик по полю Дата отправления\n",
    "input_return_date.click()\n",
    "sleep(2)\n",
    "                                                                    \n",
    "# Клик по Месяцу, чтобы выбрать месяц возвращения                   \n",
    "month_selection_ret = Select(browser.find_element(By.CSS_SELECTOR, \"div.calendar__month:nth-child(2) > div:nth-child(1) > div:nth-child(1) > select:nth-child(2)\"))\n",
    "month_selection_ret.select_by_visible_text(month_return)\n",
    "sleep(2)\n",
    "\n",
    "# Выбор дня возвращения                                                              \n",
    "calendar_ret = wait(browser, 10).until(EC.element_to_be_clickable((By.CSS_SELECTOR, \"div.calendar__month:nth-child(2)\")))\n",
    "dates_ret = calendar_ret.find_elements(By.CLASS_NAME, \"calendar-day__date\")\n",
    "\n",
    "# Немного прокрутим страницу вниз, чтобы был виден всеь календарь целиком\n",
    "# browser.execute_script(\"window.scrollTo(0, 200)\")\n",
    "\n",
    "ret_day = dates_ret[int(day_return)-1]\n",
    "ret_day.click()"
   ]
  },
  {
   "cell_type": "code",
   "execution_count": 12,
   "id": "0a854a39",
   "metadata": {},
   "outputs": [],
   "source": [
    "# Опция\n",
    "# Выбираем количество пассажиров и класс\n",
    "# Клик по форме для выбора пассажиров и класса \n",
    "input_passengers_class = wait(browser, 10).until(EC.element_to_be_clickable((By.CSS_SELECTOR, \".additional-fields\")))\n",
    "input_passengers_class.click()"
   ]
  },
  {
   "cell_type": "code",
   "execution_count": 13,
   "id": "cc82e9d1",
   "metadata": {},
   "outputs": [],
   "source": [
    "# Опция\n",
    "# Выбираем количество пассажиров и класс\n",
    "\n",
    "# All our workers are adults, so we only need field for adults amount\n",
    "num_passengers = browser.find_element(By.CLASS_NAME, \"additional-fields__passenger-value\").text\n",
    "\n",
    "# Сколько пассажиров полетит \n",
    "# (В нашей компании всего 3 человека регулярно совершают командировки. Чаще всего летит кто-то один)\n",
    "passengers = 1\n",
    "\n",
    "while int(num_passengers) < passengers:\n",
    "    num_passengers = int(browser.find_element(By.CLASS_NAME, \"additional-fields__passenger-value\").text)\n",
    "    plus_button = browser.find_element(By.CSS_SELECTOR, \"div.additional-fields__passenger-row:nth-child(1) > div:nth-child(2) > div:nth-child(3) > a:nth-child(1) > svg:nth-child(1) > path:nth-child(1)\")\n",
    "    plus_button.click()\n",
    "    num_passengers = browser.find_element(By.CLASS_NAME, \"additional-fields__passenger-value\").text\n",
    "    # 9 - is maximum amount of passengers for one search\n",
    "    if int(num_passengers) == 9:\n",
    "        num_passengers = int(browser.find_element(By.CLASS_NAME, \"additional-fields__passenger-value\").text)\n",
    "        break\n",
    "        \n",
    "while int(num_passengers) > passengers:\n",
    "    num_passengers = int(browser.find_element(By.CLASS_NAME, \"additional-fields__passenger-value\").text)\n",
    "    minus_button = browser.find_element(By.CSS_SELECTOR, \"div.additional-fields__passenger-row:nth-child(1) > div:nth-child(2) > div:nth-child(1) > a:nth-child(1)\")\n",
    "    minus_button.click()\n",
    "    num_passengers = browser.find_element(By.CLASS_NAME, \"additional-fields__passenger-value\").text\n",
    "    if int(num_passengers) == 1:\n",
    "        num_passengers = int(browser.find_element(By.CLASS_NAME, \"additional-fields__passenger-value\").text)\n",
    "        break\n",
    "        \n",
    "# Выберите класс (cl) из ['Economy', 'Business']\n",
    "cl = 'Economy'\n",
    "\n",
    "class_selection = browser.find_elements(By.CLASS_NAME, \"custom-radio__caption\")\n",
    "class_button = browser.find_elements(By.CLASS_NAME, \"custom-radio__element\")\n",
    "\n",
    "if cl == class_selection[0].text:\n",
    "    class_button[0].click()\n",
    "elif cl == class_selection[1].text:\n",
    "    class_button[1].click()"
   ]
  },
  {
   "cell_type": "code",
   "execution_count": 14,
   "id": "4ab9c034",
   "metadata": {},
   "outputs": [],
   "source": [
    "# Start searching\n",
    "search_button = browser.find_element(By.CSS_SELECTOR, \".button_70e8ad4\")\n",
    "search_button.click()\n",
    "sleep(10)"
   ]
  },
  {
   "cell_type": "code",
   "execution_count": 15,
   "id": "5c98b489",
   "metadata": {},
   "outputs": [],
   "source": [
    "# Working with tickets parameters"
   ]
  },
  {
   "cell_type": "code",
   "execution_count": 16,
   "id": "fadf84a2",
   "metadata": {},
   "outputs": [],
   "source": [
    "# # Working with tickets parameters\n",
    "\n",
    "# # Choosing currency (we need RUB)\n",
    "# currency = 'RUB'\n",
    "# currency_button = browser.find_element(By.CSS_SELECTOR, \".q8JaLokdctjkb1_n4aw0 > svg:nth-child(1)\")\n",
    "# currency_button.click()\n",
    "\n",
    "# currency_selection = browser.find_element(By.CSS_SELECTOR, \"li.xHo38THtncBgNdQpw5i3:nth-child(14) > p:nth-child(1)\")\n",
    "# # Moving down to needed value on drop-down list\n",
    "# actions = ActionChains(browser)\n",
    "# actions.move_to_element(currency_selection).perform()\n",
    "# currency_selection = wait(browser, 5).until(EC.visibility_of_element_located((By.CSS_SELECTOR, \"li.xHo38THtncBgNdQpw5i3:nth-child(14) > p:nth-child(1)\")))\n",
    "# currency_selection.click()\n",
    "# currency_selection_apply = wait(browser, 5).until(EC.visibility_of_element_located((By.CSS_SELECTOR, \"button.button_278c41a:nth-child(2)\")))\n",
    "# currency_selection_apply.click()"
   ]
  },
  {
   "cell_type": "code",
   "execution_count": 17,
   "id": "df72a3a2",
   "metadata": {},
   "outputs": [],
   "source": [
    "def check_flights():\n",
    "    try:\n",
    "        no_flights = browser.find_element(By.CSS_SELECTOR, \".error-informer__container > h2:nth-child(1)\")    \n",
    "        if no_flights:\n",
    "            print(\"Билеты не найдены\")\n",
    "            print(\"Попробуйте поменять даты\")\n",
    "    except Exception as e:\n",
    "        pass"
   ]
  },
  {
   "cell_type": "code",
   "execution_count": 18,
   "id": "8bc37d0f",
   "metadata": {},
   "outputs": [],
   "source": [
    "check_flights()"
   ]
  },
  {
   "cell_type": "code",
   "execution_count": 19,
   "id": "63adcb38",
   "metadata": {},
   "outputs": [],
   "source": [
    "# Choosing only direct flights\n",
    "direct_flight_option = browser.find_element(By.CSS_SELECTOR, 'div.filter-group:nth-child(1) > div:nth-child(2) > div:nth-child(1) > label:nth-child(1) > span:nth-child(2)')\n",
    "direct_flight_option.click()\n",
    "# Ставим галочку Без ночных пересадок\n",
    "no_night_transfers = wait(browser, 10).until(EC.element_to_be_clickable((By.CSS_SELECTOR, \"div.filter-group:nth-child(3) > div:nth-child(2) > div:nth-child(1) > div:nth-child(3) > label:nth-child(1) > span:nth-child(2)\")))\n",
    "no_night_transfers.click()"
   ]
  },
  {
   "cell_type": "code",
   "execution_count": 20,
   "id": "c980fcb8",
   "metadata": {},
   "outputs": [],
   "source": [
    "arrival_start_time = datetime.strptime(arrival_start_time, '%H:%M').time()\n",
    "arrival_end_time = datetime.strptime(arrival_end_time, '%H:%M').time()\n",
    "\n",
    "returning_start_time = datetime.strptime(returning_start_time, '%H:%M').time()\n",
    "returning_end_time = datetime.strptime(returning_end_time, '%H:%M').time()"
   ]
  },
  {
   "cell_type": "code",
   "execution_count": 21,
   "id": "d801022a",
   "metadata": {},
   "outputs": [],
   "source": [
    "# Adjusting arrival time with sccroller\n",
    "# Scrolling down a little bit\n",
    "browser.execute_script(\"window.scrollTo(0, 200)\")\n",
    "\n",
    "departure_time_menu = browser.find_element(By.CSS_SELECTOR, \"div.filter-group:nth-child(4) > div:nth-child(1) > div:nth-child(1)\")\n",
    "departure_time_menu.click()\n",
    "sleep(2)"
   ]
  },
  {
   "cell_type": "code",
   "execution_count": 22,
   "id": "94822b88",
   "metadata": {},
   "outputs": [],
   "source": [
    "# Setting arrival time functions\n",
    "def set_start_time_arrvl(goal_time, browser_time):\n",
    "    if goal_time.hour != browser_time.hour:\n",
    "        # Moving left scroller\n",
    "        step = 10 * goal_time.hour\n",
    "        ActionChains(browser).drag_and_drop_by_offset(left_scroller, step, 0).perform()\n",
    "        \n",
    "def set_end_time_arrvl(goal_time, browser_time):\n",
    "    if goal_time.hour != browser_time.hour:\n",
    "        # Moving right scroller\n",
    "        step = 10 * goal_time.hour\n",
    "        ActionChains(browser).drag_and_drop_by_offset(right_scroller, -245+step, 0).perform()"
   ]
  },
  {
   "cell_type": "code",
   "execution_count": 23,
   "id": "07079f1a",
   "metadata": {},
   "outputs": [],
   "source": [
    "# Adjusting arrival time with sccroller\n",
    "\n",
    "# Min time\n",
    "start_time = datetime.strptime(browser.find_element(By.CSS_SELECTOR, \"div.filter-group:nth-child(4) > div:nth-child(2) > div:nth-child(2) > div:nth-child(1) > div:nth-child(2) > div:nth-child(1)\").text[0:5], \n",
    "                               '%H:%M').time()\n",
    "# Initialize left scroller\n",
    "left_scroller = browser.find_element(By.CSS_SELECTOR, \"div.filter-group:nth-child(4) > div:nth-child(2) > div:nth-child(2) > div:nth-child(2) > div:nth-child(1) > div:nth-child(1) > div:nth-child(1) > div:nth-child(4)\")\n",
    "# Setting arrival start time\n",
    "set_start_time_arrvl(arrival_start_time, start_time)\n",
    "\n",
    "# Max time\n",
    "end_time = datetime.strptime(browser.find_element(By.CSS_SELECTOR, \"div.filter-group:nth-child(4) > div:nth-child(2) > div:nth-child(2) > div:nth-child(1) > div:nth-child(2) > div:nth-child(1)\").text[-5:], \n",
    "                               '%H:%M').time()\n",
    "# Initialize right scroller\n",
    "right_scroller = browser.find_element(By.CSS_SELECTOR, \"div.filter-group:nth-child(4) > div:nth-child(2) > div:nth-child(2) > div:nth-child(2) > div:nth-child(1) > div:nth-child(1) > div:nth-child(1) > div:nth-child(5)\")\n",
    "# Setting arrival end time\n",
    "set_end_time_arrvl(arrival_end_time, end_time)\n",
    "\n",
    "sleep(2)"
   ]
  },
  {
   "cell_type": "code",
   "execution_count": 25,
   "id": "631009fd",
   "metadata": {},
   "outputs": [],
   "source": [
    "# Adjusting return time with sccroller\n",
    "# Scrolling down a little bit\n",
    "browser.execute_script(\"window.scrollTo(0, 400)\")\n",
    "returning_time_menu = browser.find_element(By.CSS_SELECTOR, \"div.filter-group:nth-child(5) > div:nth-child(1) > div:nth-child(1)\")\n",
    "returning_time_menu.click()\n",
    "# Scrolling down a little bit\n",
    "browser.execute_script(\"window.scrollTo(0, 600)\")"
   ]
  },
  {
   "cell_type": "code",
   "execution_count": 26,
   "id": "8343ac88",
   "metadata": {},
   "outputs": [],
   "source": [
    "# Setting returning time functions\n",
    "def set_start_time_ret(goal_time, browser_time):\n",
    "    if goal_time.hour != browser_time.hour:\n",
    "        # Moving left scroller\n",
    "        step = 10 * goal_time.hour\n",
    "        ActionChains(browser).drag_and_drop_by_offset(left_scroller, step+5, 0).perform()\n",
    "        \n",
    "def set_end_time_ret(goal_time, browser_time):\n",
    "    if goal_time.hour != browser_time.hour:\n",
    "        # Moving right scroller\n",
    "        step = 10 * goal_time.hour\n",
    "        ActionChains(browser).drag_and_drop_by_offset(right_scroller, -240+step, 0).perform()"
   ]
  },
  {
   "cell_type": "code",
   "execution_count": 27,
   "id": "991dbc33",
   "metadata": {},
   "outputs": [],
   "source": [
    "# Adjusting return time with sccroller\n",
    "# Min time                                                            \n",
    "start_time = datetime.strptime(browser.find_element(By.CSS_SELECTOR, \"div.filter-group:nth-child(5) > div:nth-child(2) > div:nth-child(1) > div:nth-child(1) > div:nth-child(2) > div:nth-child(1)\").text[0:5], \n",
    "                               '%H:%M').time()\n",
    "# Initialize left scroller \n",
    "left_scroller = browser.find_element(By.CSS_SELECTOR, \"div.filter-group:nth-child(5) > div:nth-child(2) > div:nth-child(1) > div:nth-child(2) > div:nth-child(1) > div:nth-child(1) > div:nth-child(1) > div:nth-child(4)\")\n",
    "# Setting returning start time\n",
    "set_start_time_ret(returning_start_time, start_time)\n",
    "\n",
    "# Max time\n",
    "end_time = datetime.strptime(browser.find_element(By.CSS_SELECTOR, \"div.filter-group:nth-child(5) > div:nth-child(2) > div:nth-child(1) > div:nth-child(1) > div:nth-child(2) > div:nth-child(1)\").text[-5:], \n",
    "                               '%H:%M').time()\n",
    "# Initialize right scroller\n",
    "right_scroller = browser.find_element(By.CSS_SELECTOR, \"div.filter-group:nth-child(5) > div:nth-child(2) > div:nth-child(1) > div:nth-child(2) > div:nth-child(1) > div:nth-child(1) > div:nth-child(1) > div:nth-child(5)\")\n",
    "# Setting returning end time\n",
    "set_end_time_ret(returning_end_time, end_time)\n",
    "\n",
    "sleep(5)"
   ]
  },
  {
   "cell_type": "code",
   "execution_count": 28,
   "id": "8d29f5f4",
   "metadata": {},
   "outputs": [],
   "source": [
    "# while returning_start_time != start_time:\n",
    "#     # Inintialize left scroller \n",
    "#     left_scroller = browser.find_element(By.CSS_SELECTOR, \"div.filter-group:nth-child(5) > div:nth-child(2) > div:nth-child(1) > div:nth-child(2) > div:nth-child(1) > div:nth-child(1) > div:nth-child(1) > div:nth-child(4)\")\n",
    "#     # Moving left scroller by one hour\n",
    "#     ActionChains(browser).drag_and_drop_by_offset(left_scroller, 10, 0).perform()\n",
    "#     start_time = datetime.strptime(browser.find_element(By.CSS_SELECTOR, \"div.filter-group:nth-child(5) > div:nth-child(2) > div:nth-child(1) > div:nth-child(1) > div:nth-child(2) > div:nth-child(1)\").text[0:5], \n",
    "#                                '%H:%M').time()\n",
    "    \n",
    "# while returning_end_time != end_time:\n",
    "#     # Inintialize right scroller \n",
    "#     right_scroller = browser.find_element(By.CSS_SELECTOR, \"div.filter-group:nth-child(5) > div:nth-child(2) > div:nth-child(1) > div:nth-child(2) > div:nth-child(1) > div:nth-child(1) > div:nth-child(1) > div:nth-child(5)\")\n",
    "#     # Moving right scroller by one hour\n",
    "#     ActionChains(browser).drag_and_drop_by_offset(right_scroller, -10, 0).perform()\n",
    "#     end_time = datetime.strptime(browser.find_element(By.CSS_SELECTOR, \"div.filter-group:nth-child(5) > div:nth-child(2) > div:nth-child(1) > div:nth-child(1) > div:nth-child(2) > div:nth-child(1)\").text[-5:], \n",
    "#                                '%H:%M').time()"
   ]
  },
  {
   "cell_type": "code",
   "execution_count": 29,
   "id": "1da1413f",
   "metadata": {},
   "outputs": [],
   "source": [
    "# def move_arrival_time_scroller_right():\n",
    "#     browser.execute_script(\"window.scrollTo(0, 200)\")\n",
    "#     right_scroller = browser.find_element(By.CSS_SELECTOR, \"div.filter-group:nth-child(4) > div:nth-child(2) > div:nth-child(2) > div:nth-child(2) > div:nth-child(1) > div:nth-child(1) > div:nth-child(1) > div:nth-child(5)\")\n",
    "#     ActionChains(browser).drag_and_drop_by_offset(right_scroller, 10, 0).perform()"
   ]
  },
  {
   "cell_type": "code",
   "execution_count": 30,
   "id": "993d1fff",
   "metadata": {},
   "outputs": [],
   "source": [
    "def check_filters():\n",
    "    rigid_filters = browser.find_element(By.CSS_SELECTOR, \".title-2-bold_03dd9f9\")\n",
    "    if rigid_filters:\n",
    "        # Choosing only direct flights - Убираем галочку\n",
    "        direct_flight_option = browser.find_element(By.CSS_SELECTOR, 'div.filter-group:nth-child(1) > div:nth-child(2) > div:nth-child(1) > label:nth-child(1) > span:nth-child(2)')\n",
    "        direct_flight_option.click()\n",
    "        sleep(2)\n",
    "        # Убираем галочку Без ночных пересадок\n",
    "        no_night_transfers = wait(browser, 10).until(EC.element_to_be_clickable((By.CSS_SELECTOR, \"div.filter-group:nth-child(3) > div:nth-child(2) > div:nth-child(1) > div:nth-child(3) > label:nth-child(1) > span:nth-child(2)\")))\n",
    "        no_night_transfers.click()\n",
    "        sleep(2)\n",
    "    if rigid_filters:\n",
    "        loosen_filter_button = browser.find_element(By.CSS_SELECTOR, \"button.button_70e8ad4:nth-child(4)\")\n",
    "        loosen_filter_button.click()\n",
    "        sleep(2)"
   ]
  },
  {
   "cell_type": "code",
   "execution_count": 34,
   "id": "abeab798",
   "metadata": {},
   "outputs": [],
   "source": [
    "# Choosing best flight\n",
    "def choose_flight():\n",
    "    browser.execute_script(\"window.scrollTo(0, 100)\")\n",
    "    try:\n",
    "        best_flight = browser.find_element(By.CSS_SELECTOR, \"div.product-list__item:nth-child(2) > div:nth-child(1) > div:nth-child(1) > div:nth-child(1) > div:nth-child(1) > div:nth-child(3) > div:nth-child(1) > div:nth-child(1) > button:nth-child(1)\")\n",
    "        best_flight.click()\n",
    "        sleep(3)\n",
    "        \n",
    "        try:\n",
    "            best_ticket = wait(browser, 10).until(EC.element_to_be_clickable((By.CSS_SELECTOR, \"a.orange_70e8ad4\")))\n",
    "            best_ticket.click()\n",
    "        except: # если всего один продавец, кнопка перехода к покупке другая\n",
    "            best_ticket = wait(browser, 10).until(EC.element_to_be_clickable((By.CSS_SELECTOR, \"div.buy-button:nth-child(4) > div:nth-child(1) > a:nth-child(1)\")))    \n",
    "            best_ticket.click()\n",
    "    \n",
    "    except Exception as e:\n",
    "        # Если подходящего билета нет, ослабляем фильтры\n",
    "        check_filters()\n",
    "        sleep(3)\n",
    "        choose_flight()"
   ]
  },
  {
   "cell_type": "code",
   "execution_count": 35,
   "id": "b0485d98",
   "metadata": {},
   "outputs": [],
   "source": [
    "choose_flight()"
   ]
  }
 ],
 "metadata": {
  "kernelspec": {
   "display_name": "Python 3 (ipykernel)",
   "language": "python",
   "name": "python3"
  },
  "language_info": {
   "codemirror_mode": {
    "name": "ipython",
    "version": 3
   },
   "file_extension": ".py",
   "mimetype": "text/x-python",
   "name": "python",
   "nbconvert_exporter": "python",
   "pygments_lexer": "ipython3",
   "version": "3.9.12"
  }
 },
 "nbformat": 4,
 "nbformat_minor": 5
}
